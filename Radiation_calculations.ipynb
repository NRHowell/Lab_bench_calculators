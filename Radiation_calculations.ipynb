{
 "cells": [
  {
   "cell_type": "markdown",
   "metadata": {
    "tags": []
   },
   "source": [
    "# __Rad Calcs!__  "
   ]
  },
  {
   "cell_type": "code",
   "execution_count": 2,
   "metadata": {},
   "outputs": [],
   "source": [
    "import math \n",
    "import radioactivedecay as rd #initiate radioactive decay library\n",
    "import matplotlib\n",
    "#import pandas as pd\n",
    "import csv\n",
    "import datetime"
   ]
  },
  {
   "cell_type": "markdown",
   "metadata": {
    "tags": []
   },
   "source": [
    "## Radioactive decay calculator\n",
    "   _Run cells sequentially_"
   ]
  },
  {
   "cell_type": "code",
   "execution_count": 3,
   "metadata": {},
   "outputs": [
    {
     "name": "stdout",
     "output_type": "stream",
     "text": [
      "Isotope\n"
     ]
    },
    {
     "name": "stdin",
     "output_type": "stream",
     "text": [
      " Ga68\n"
     ]
    },
    {
     "name": "stdout",
     "output_type": "stream",
     "text": [
      "Time interval\n",
      "y = years, d = day, h = hours, m = minutes\n"
     ]
    },
    {
     "name": "stdin",
     "output_type": "stream",
     "text": [
      " h\n"
     ]
    },
    {
     "name": "stdout",
     "output_type": "stream",
     "text": [
      "half life = 1.1284999999999998h\n"
     ]
    },
    {
     "name": "stdin",
     "output_type": "stream",
     "text": [
      "Bq at QC =   10000\n",
      "Time elapsed from QC =   6\n"
     ]
    },
    {
     "name": "stdout",
     "output_type": "stream",
     "text": [
      "251.08797505878024Bq\n",
      "2.51% remaining from activity at QC\n",
      "{'Ga-68': 1470498.7836551056, 'Zn-68': 57140429.947499916}\n"
     ]
    },
    {
     "data": {
      "image/png": "[encoded data removed]",
      "text/plain": [
       "<Figure size 432x288 with 1 Axes>"
      ]
     },
     "metadata": {
      "needs_background": "light"
     },
     "output_type": "display_data"
    },
    {
     "data": {
      "image/png": "[encoded data removed]",
      "text/plain": [
       "<Figure size 108x324 with 1 Axes>"
      ]
     },
     "metadata": {},
     "output_type": "display_data"
    }
   ],
   "source": [
    "print('Isotope')  \n",
    "iso = input()   #select isotope from rd library\n",
    "\n",
    "print('Time interval')\n",
    "print('y = years, d = day, h = hours, m = minutes')\n",
    "ti = input() #choose scale for time interval \n",
    "\n",
    "nuc = rd.Nuclide(iso) #call half-life from rd library\n",
    "\n",
    "print(f\"half life = {nuc.half_life(ti)}{ti}\")\n",
    "\n",
    "t2 = nuc.half_life(ti) #return half life in hours\n",
    "\n",
    "N0 = float(input('Bq at QC =  ')) #starting activity\n",
    "\n",
    "t = float(input('Time elapsed from QC =  ')) #in same units as half life\n",
    "\n",
    "N = N0*(math.exp(-(0.693/t2)*t))\n",
    "\n",
    "pr = (N/N0)*100\n",
    "pr_f = \"{:.2f}\".format(pr) #restrict decimal places to 2\n",
    "\n",
    "inv = rd.Inventory({iso: N0}) #construct inventory isotope and quantity\n",
    "inv_t1 = inv.decay(t,ti) #construct inventory of decay chain products\n",
    "\n",
    "print(f\"{N}Bq\")\n",
    "print(f\"{pr_f}% remaining from activity at QC\")\n",
    "\n",
    "inv.plot(t*2, ti) #plot of radioactive decay for time and units specified\n",
    "\n",
    "nuc.plot() #show visual decay scheme\n",
    "\n",
    "print(inv_t1.contents) #decay chain products and quanitities in units provided above"
   ]
  },
  {
   "cell_type": "markdown",
   "metadata": {},
   "source": [
    "## Decay corrected stock concentration"
   ]
  },
  {
   "cell_type": "code",
   "execution_count": 7,
   "metadata": {},
   "outputs": [
    {
     "name": "stdin",
     "output_type": "stream",
     "text": [
      "TBq/mmol =  4000\n",
      "TBq/ml =  2000\n"
     ]
    },
    {
     "name": "stdout",
     "output_type": "stream",
     "text": [
      "stock concentration = 0.012554398752939013M\n"
     ]
    }
   ],
   "source": [
    "#Concentration of Stock calculator\n",
    "#Divide Bq/ml by Bq/mmol and mulitply by the fraction of isotope remaining to mmol/ml or M. \n",
    "#Assumes that the decay product is not biologically active and that there is one isotope tag per molecule\n",
    "\n",
    "Bq_M = float(input('TBq/mmol = ')) #Specific activity\n",
    "Bq_ml = float(input('TBq/ml = ')) #concentration\n",
    "\n",
    "M = (Bq_ml/Bq_M)*(N/N0) #Bq/ml divided by Bq/mmol multiplied by the fraction of isotope remaining. N and N0 are variables taken from the radioactive decay calculator\n",
    "\n",
    "print(f\"stock concentration = {M}M\")\n"
   ]
  },
  {
   "cell_type": "markdown",
   "metadata": {},
   "source": [
    "## Working solution preperation\n"
   ]
  },
  {
   "cell_type": "code",
   "execution_count": 8,
   "metadata": {
    "tags": []
   },
   "outputs": [
    {
     "name": "stdin",
     "output_type": "stream",
     "text": [
      "final concentraion (nM) =   100\n",
      "final volume (ml) =   0.1\n"
     ]
    },
    {
     "name": "stdout",
     "output_type": "stream",
     "text": [
      "0.0007965335653894997ul of stock\n",
      "99.99920346643462ul of buffer\n"
     ]
    }
   ],
   "source": [
    "# Dilution of stock calculator\n",
    "\n",
    "f_c = float(input('final concentraion (nM) =  '))   #desired concentraion of the final solution in nM\n",
    "f_v = float(input('final volume (ml) =  '))  #volume required\n",
    "\n",
    "s_v = (f_c/(M*1e9))*f_v #volume of stock solution required to achieve desired working solution\n",
    "\n",
    "b_v = f_v - s_v #volume of diluent required to achieve the desired working solution\n",
    "\n",
    "print(f\"{s_v*1e3}ul of stock\") #volume of stock in ul\n",
    "print(f\"{b_v*1e3}ul of buffer\") #volume of buffer in ul\n",
    "\n"
   ]
  },
  {
   "cell_type": "markdown",
   "metadata": {
    "tags": []
   },
   "source": [
    "## Data output "
   ]
  },
  {
   "cell_type": "code",
   "execution_count": 9,
   "metadata": {
    "tags": []
   },
   "outputs": [
    {
     "name": "stdout",
     "output_type": "stream",
     "text": [
      "['Output from Radcalcs', '2022-08-08 12:28:43.488549', '', '', '', '', '']\n",
      "['Ga68', 't1/2=1.1284999999999998h', 'time elapsed =6.0h']\n",
      "[]\n",
      "['Radioactive decay']\n",
      "['Bq at Qc', 'Bq at t0', '% remaining', 'TBq/mmol', 'TBq/ml', 'M']\n",
      "['10000.0', '251.08797505878024', '2.51', '4000.0', '2000.0', '0.012554398752939013']\n",
      "[]\n",
      "['Preperation of working solution']\n",
      "['final (nM)', 'final (ml)', 'stock (ul)', 'buffer (ul)']\n",
      "['100.0', '0.1', '7.965335653894998e-07', '0.09999920346643462']\n"
     ]
    }
   ],
   "source": [
    "#output the data to csv\n",
    "\n",
    "date = datetime.datetime.now() #output current date and time\n",
    "\n",
    "def output():\n",
    "    #build data output csv format\n",
    "    title = ['Output from Radcalcs',date,\"\",\"\",\"\",\"\",\"\"]\n",
    "    title2 = ['Radioactive decay']\n",
    "    iso_data =[iso,(f\"t1/2={t2}{ti}\"),(f\"time elapsed ={t}{ti}\")]\n",
    "    header2 = ['Bq at Qc', 'Bq at t0', '% remaining','TBq/mmol','TBq/ml','M']\n",
    "    title3 = ['Preperation of working solution']\n",
    "    header3 = ['final (nM)', 'final (ml)', 'stock (ul)', 'buffer (ul)']\n",
    "\n",
    "    with open('output.csv','w') as f:\n",
    "        writer = csv.writer(f, delimiter =',')\n",
    "        writer.writerow(title)\n",
    "        writer.writerow(iso_data)\n",
    "        writer.writerow('')\n",
    "        writer.writerow(title2)\n",
    "        writer.writerow(header2)\n",
    "        writer.writerow([N0, N, pr_f, Bq_M, Bq_ml, M])\n",
    "        writer.writerow('')\n",
    "        writer.writerow(title3)\n",
    "        writer.writerow(header3)\n",
    "        writer.writerow([f_c, f_v, s_v, b_v])\n",
    "    \n",
    "    with open('output.csv','r') as file:\n",
    "        data_x = csv.reader(file, delimiter = ',')\n",
    "        for line in data_x:\n",
    "            print(line)\n",
    "\n",
    "    #output = pd.read_csv('output.csv')\n",
    "    #return output\n",
    "\n",
    "output()"
   ]
  },
  {
   "cell_type": "markdown",
   "metadata": {},
   "source": [
    "***\n",
    "***\n",
    "## Detector Efficiency\n"
   ]
  },
  {
   "cell_type": "code",
   "execution_count": 36,
   "metadata": {},
   "outputs": [
    {
     "name": "stdout",
     "output_type": "stream",
     "text": [
      "working solution  =    2.268110623920351e+28 TBq/ml\n"
     ]
    },
    {
     "name": "stdin",
     "output_type": "stream",
     "text": [
      "volume of working solution (ml) =     0.5\n"
     ]
    }
   ],
   "source": [
    "#Percentage detector efficiency calculator for gamma counter\n",
    "\n",
    "\n",
    "working_Bq_ml = Bq_ml*(s_v/f_v) #bq/ml of working solution\n",
    "print(f\"working solution  =   {working_Bq_ml}'TBq/ml\")\n",
    "\n",
    "vol = float(input('volume of working solution (ml) =    '))   #volume of the working solution taken for efficiency calculation\n",
    "\n",
    "\n",
    "\n",
    " \n"
   ]
  },
  {
   "cell_type": "code",
   "execution_count": null,
   "metadata": {},
   "outputs": [],
   "source": []
  },
  {
   "cell_type": "code",
   "execution_count": null,
   "metadata": {},
   "outputs": [],
   "source": []
  }
 ],
 "metadata": {
  "kernelspec": {
   "display_name": "Python 3 (ipykernel)",
   "language": "python",
   "name": "python3"
  },
  "language_info": {
   "codemirror_mode": {
    "name": "ipython",
    "version": 3
   },
   "file_extension": ".py",
   "mimetype": "text/x-python",
   "name": "python",
   "nbconvert_exporter": "python",
   "pygments_lexer": "ipython3",
   "version": "3.9.12"
  }
 },
 "nbformat": 4,
 "nbformat_minor": 4
}
